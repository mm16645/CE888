{
  "nbformat": 4,
  "nbformat_minor": 0,
  "metadata": {
    "colab": {
      "name": "CE888 Project.ipynb",
      "provenance": [],
      "authorship_tag": "ABX9TyMA7uQ0VYQGVHJ9G1IgyIpt",
      "include_colab_link": true
    },
    "kernelspec": {
      "name": "python3",
      "display_name": "Python 3"
    }
  },
  "cells": [
    {
      "cell_type": "markdown",
      "metadata": {
        "id": "view-in-github",
        "colab_type": "text"
      },
      "source": [
        "<a href=\"https://colab.research.google.com/github/mm16645/CE888/blob/main/CE888_Project.ipynb\" target=\"_parent\"><img src=\"https://colab.research.google.com/assets/colab-badge.svg\" alt=\"Open In Colab\"/></a>"
      ]
    },
    {
      "cell_type": "code",
      "metadata": {
        "colab": {
          "base_uri": "https://localhost:8080/"
        },
        "id": "VKoLxfBFUc4y",
        "outputId": "f0ddb065-b27a-4e71-a566-392618437ae8"
      },
      "source": [
        "!git clone 'https://github.com/mm16645/CE888'"
      ],
      "execution_count": 2,
      "outputs": [
        {
          "output_type": "stream",
          "text": [
            "Cloning into 'CE888'...\n",
            "remote: Enumerating objects: 237, done.\u001b[K\n",
            "remote: Total 237 (delta 0), reused 0 (delta 0), pack-reused 237\u001b[K\n",
            "Receiving objects: 100% (237/237), 16.18 MiB | 23.63 MiB/s, done.\n",
            "Resolving deltas: 100% (59/59), done.\n"
          ],
          "name": "stdout"
        }
      ]
    },
    {
      "cell_type": "code",
      "metadata": {
        "colab": {
          "base_uri": "https://localhost:8080/"
        },
        "id": "zQDa3Pvtkya7",
        "outputId": "06b2743d-81eb-4f7e-d73f-d3a882f93e29"
      },
      "source": [
        "!pip install transformers"
      ],
      "execution_count": 84,
      "outputs": [
        {
          "output_type": "stream",
          "text": [
            "Collecting transformers\n",
            "\u001b[?25l  Downloading https://files.pythonhosted.org/packages/98/87/ef312eef26f5cecd8b17ae9654cdd8d1fae1eb6dbd87257d6d73c128a4d0/transformers-4.3.2-py3-none-any.whl (1.8MB)\n",
            "\u001b[K     |████████████████████████████████| 1.8MB 6.8MB/s \n",
            "\u001b[?25hRequirement already satisfied: requests in /usr/local/lib/python3.7/dist-packages (from transformers) (2.23.0)\n",
            "Requirement already satisfied: filelock in /usr/local/lib/python3.7/dist-packages (from transformers) (3.0.12)\n",
            "Requirement already satisfied: numpy>=1.17 in /usr/local/lib/python3.7/dist-packages (from transformers) (1.19.5)\n",
            "Requirement already satisfied: packaging in /usr/local/lib/python3.7/dist-packages (from transformers) (20.9)\n",
            "Requirement already satisfied: tqdm>=4.27 in /usr/local/lib/python3.7/dist-packages (from transformers) (4.41.1)\n",
            "Collecting sacremoses\n",
            "\u001b[?25l  Downloading https://files.pythonhosted.org/packages/7d/34/09d19aff26edcc8eb2a01bed8e98f13a1537005d31e95233fd48216eed10/sacremoses-0.0.43.tar.gz (883kB)\n",
            "\u001b[K     |████████████████████████████████| 890kB 23.9MB/s \n",
            "\u001b[?25hRequirement already satisfied: importlib-metadata; python_version < \"3.8\" in /usr/local/lib/python3.7/dist-packages (from transformers) (3.4.0)\n",
            "Collecting tokenizers<0.11,>=0.10.1\n",
            "\u001b[?25l  Downloading https://files.pythonhosted.org/packages/71/23/2ddc317b2121117bf34dd00f5b0de194158f2a44ee2bf5e47c7166878a97/tokenizers-0.10.1-cp37-cp37m-manylinux2010_x86_64.whl (3.2MB)\n",
            "\u001b[K     |████████████████████████████████| 3.2MB 36.2MB/s \n",
            "\u001b[?25hRequirement already satisfied: regex!=2019.12.17 in /usr/local/lib/python3.7/dist-packages (from transformers) (2019.12.20)\n",
            "Requirement already satisfied: idna<3,>=2.5 in /usr/local/lib/python3.7/dist-packages (from requests->transformers) (2.10)\n",
            "Requirement already satisfied: urllib3!=1.25.0,!=1.25.1,<1.26,>=1.21.1 in /usr/local/lib/python3.7/dist-packages (from requests->transformers) (1.24.3)\n",
            "Requirement already satisfied: certifi>=2017.4.17 in /usr/local/lib/python3.7/dist-packages (from requests->transformers) (2020.12.5)\n",
            "Requirement already satisfied: chardet<4,>=3.0.2 in /usr/local/lib/python3.7/dist-packages (from requests->transformers) (3.0.4)\n",
            "Requirement already satisfied: pyparsing>=2.0.2 in /usr/local/lib/python3.7/dist-packages (from packaging->transformers) (2.4.7)\n",
            "Requirement already satisfied: six in /usr/local/lib/python3.7/dist-packages (from sacremoses->transformers) (1.15.0)\n",
            "Requirement already satisfied: click in /usr/local/lib/python3.7/dist-packages (from sacremoses->transformers) (7.1.2)\n",
            "Requirement already satisfied: joblib in /usr/local/lib/python3.7/dist-packages (from sacremoses->transformers) (1.0.1)\n",
            "Requirement already satisfied: zipp>=0.5 in /usr/local/lib/python3.7/dist-packages (from importlib-metadata; python_version < \"3.8\"->transformers) (3.4.0)\n",
            "Requirement already satisfied: typing-extensions>=3.6.4; python_version < \"3.8\" in /usr/local/lib/python3.7/dist-packages (from importlib-metadata; python_version < \"3.8\"->transformers) (3.7.4.3)\n",
            "Building wheels for collected packages: sacremoses\n",
            "  Building wheel for sacremoses (setup.py) ... \u001b[?25l\u001b[?25hdone\n",
            "  Created wheel for sacremoses: filename=sacremoses-0.0.43-cp37-none-any.whl size=893262 sha256=e4e5abca0dec1975dedb249c7a5ee1f3a7f18665bdf063516b6c322614821482\n",
            "  Stored in directory: /root/.cache/pip/wheels/29/3c/fd/7ce5c3f0666dab31a50123635e6fb5e19ceb42ce38d4e58f45\n",
            "Successfully built sacremoses\n",
            "Installing collected packages: sacremoses, tokenizers, transformers\n",
            "Successfully installed sacremoses-0.0.43 tokenizers-0.10.1 transformers-4.3.2\n"
          ],
          "name": "stdout"
        }
      ]
    },
    {
      "cell_type": "code",
      "metadata": {
        "id": "bimnHAO_UgxM"
      },
      "source": [
        "import numpy as np\n",
        "import pandas as pd\n",
        "from transformers import AutoTokenizer, AutoModel, TFAutoModel\n",
        "from scipy.spatial.distance import cosine\n",
        "from collections import defaultdict"
      ],
      "execution_count": 87,
      "outputs": []
    },
    {
      "cell_type": "code",
      "metadata": {
        "id": "ouc3cDJMcZM9"
      },
      "source": [
        "def import_data(testtext,testlab,traintext,trainlab,valtext,vallab):\n",
        "  test_text = pd.read_csv(testtext, delimiter = \"\\t\",names=['text'])\n",
        "  test_labels = pd.read_csv(testlab, delimiter = \"\\t\",names=['label'])\n",
        "  train_labels = pd.read_csv(trainlab, delimiter = \"\\t\",names=['label'])\n",
        "  train_text = pd.read_csv(traintext, delimiter = \"\\t\",names=['text'])\n",
        "  val_text = pd.read_csv(valtext, delimiter = \"\\t\",names=['text'])\n",
        "  val_labels = pd.read_csv(vallab, delimiter = \"\\t\",names=['label'])\n",
        "\n",
        "  df_test = pd.concat([test_text,test_labels],axis=1)\n",
        "  df_train = pd.concat([train_text,train_labels],axis=1)\n",
        "  df_val = pd.concat([val_text,val_labels],axis=1)"
      ],
      "execution_count": 81,
      "outputs": []
    },
    {
      "cell_type": "code",
      "metadata": {
        "id": "QGeeuu7Kfc8H"
      },
      "source": [
        "import_data('/content/CE888/tweeteval-main/datasets/offensive/test_text.txt','/content/CE888/tweeteval-main/datasets/offensive/test_labels.txt','/content/CE888/tweeteval-main/datasets/offensive/train_labels.txt',\n",
        "            '/content/CE888/tweeteval-main/datasets/offensive/train_text.txt','/content/CE888/tweeteval-main/datasets/offensive/val_text.txt','/content/CE888/tweeteval-main/datasets/offensive/val_labels.txt')"
      ],
      "execution_count": 82,
      "outputs": []
    },
    {
      "cell_type": "code",
      "metadata": {
        "colab": {
          "base_uri": "https://localhost:8080/",
          "height": 206
        },
        "id": "1_v-ZVNbnBc8",
        "outputId": "39f7e9f1-4770-47fd-d24e-befdb41145ed"
      },
      "source": [
        "pd.set_option('max_colwidth', None)\n",
        "df_test.tail()"
      ],
      "execution_count": 98,
      "outputs": [
        {
          "output_type": "execute_result",
          "data": {
            "text/html": [
              "<div>\n",
              "<style scoped>\n",
              "    .dataframe tbody tr th:only-of-type {\n",
              "        vertical-align: middle;\n",
              "    }\n",
              "\n",
              "    .dataframe tbody tr th {\n",
              "        vertical-align: top;\n",
              "    }\n",
              "\n",
              "    .dataframe thead th {\n",
              "        text-align: right;\n",
              "    }\n",
              "</style>\n",
              "<table border=\"1\" class=\"dataframe\">\n",
              "  <thead>\n",
              "    <tr style=\"text-align: right;\">\n",
              "      <th></th>\n",
              "      <th>text</th>\n",
              "      <th>label</th>\n",
              "    </tr>\n",
              "  </thead>\n",
              "  <tbody>\n",
              "    <tr>\n",
              "      <th>855</th>\n",
              "      <td>#CNN irrationally argues 4 legalising #abortion in #Ireland based on the murder of an infant in 1984. #Liberals can't think #Savethe8th #8thAmendment #8thref #ccot #PJNET #tcot #BlueWave #conservatives #teaparty #LovethemBoth Don't #Repealthe8th</td>\n",
              "      <td>0</td>\n",
              "    </tr>\n",
              "    <tr>\n",
              "      <th>856</th>\n",
              "      <td>@user @user @user @user @user @user @user @user @user @user @user @user @user @user City of Chicago, Democrat run with some of the strictest gun control in the nation.\"\"  😏 All the white supremacists running for office in 2018 as REPUBLICANS via @user</td>\n",
              "      <td>0</td>\n",
              "    </tr>\n",
              "    <tr>\n",
              "      <th>857</th>\n",
              "      <td>#Conservatives don’t care what you post..it’s @user propaganda..</td>\n",
              "      <td>1</td>\n",
              "    </tr>\n",
              "    <tr>\n",
              "      <th>858</th>\n",
              "      <td>#antifa #Resist.. Trump is trying to bring world peace, not obstruct like the democrats..  is this good for you also? or haters gonna hate?</td>\n",
              "      <td>0</td>\n",
              "    </tr>\n",
              "    <tr>\n",
              "      <th>859</th>\n",
              "      <td>#Maine you need to face facts @user doesn’t really represent you anymore as she is playing a game where she says she is undecided on Kavanaugh but we all know she is going to vote to confirm him.  Time to DUMP Susan Collins.</td>\n",
              "      <td>0</td>\n",
              "    </tr>\n",
              "  </tbody>\n",
              "</table>\n",
              "</div>"
            ],
            "text/plain": [
              "                                                                                                                                                                                                                                                             text  label\n",
              "855        #CNN irrationally argues 4 legalising #abortion in #Ireland based on the murder of an infant in 1984. #Liberals can't think #Savethe8th #8thAmendment #8thref #ccot #PJNET #tcot #BlueWave #conservatives #teaparty #LovethemBoth Don't #Repealthe8th       0\n",
              "856  @user @user @user @user @user @user @user @user @user @user @user @user @user @user City of Chicago, Democrat run with some of the strictest gun control in the nation.\"\"  😏 All the white supremacists running for office in 2018 as REPUBLICANS via @user       0\n",
              "857                                                                                                                                                                                             #Conservatives don’t care what you post..it’s @user propaganda..       1\n",
              "858                                                                                                                  #antifa #Resist.. Trump is trying to bring world peace, not obstruct like the democrats..  is this good for you also? or haters gonna hate?       0\n",
              "859                             #Maine you need to face facts @user doesn’t really represent you anymore as she is playing a game where she says she is undecided on Kavanaugh but we all know she is going to vote to confirm him.  Time to DUMP Susan Collins.       0"
            ]
          },
          "metadata": {
            "tags": []
          },
          "execution_count": 98
        }
      ]
    },
    {
      "cell_type": "code",
      "metadata": {
        "id": "v49SBSvXnF0y"
      },
      "source": [
        ""
      ],
      "execution_count": null,
      "outputs": []
    }
  ]
}