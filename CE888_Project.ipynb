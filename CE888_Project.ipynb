{
  "nbformat": 4,
  "nbformat_minor": 0,
  "metadata": {
    "colab": {
      "name": "CE888 Project.ipynb",
      "provenance": [],
      "authorship_tag": "ABX9TyOVKxKGL2ugGjkHaIPw4OWv",
      "include_colab_link": true
    },
    "kernelspec": {
      "name": "python3",
      "display_name": "Python 3"
    }
  },
  "cells": [
    {
      "cell_type": "markdown",
      "metadata": {
        "id": "view-in-github",
        "colab_type": "text"
      },
      "source": [
        "<a href=\"https://colab.research.google.com/github/mm16645/CE888/blob/main/CE888_Project.ipynb\" target=\"_parent\"><img src=\"https://colab.research.google.com/assets/colab-badge.svg\" alt=\"Open In Colab\"/></a>"
      ]
    },
    {
      "cell_type": "code",
      "metadata": {
        "colab": {
          "base_uri": "https://localhost:8080/"
        },
        "id": "VKoLxfBFUc4y",
        "outputId": "f0ddb065-b27a-4e71-a566-392618437ae8"
      },
      "source": [
        "!git clone 'https://github.com/mm16645/CE888'"
      ],
      "execution_count": 2,
      "outputs": [
        {
          "output_type": "stream",
          "text": [
            "Cloning into 'CE888'...\n",
            "remote: Enumerating objects: 237, done.\u001b[K\n",
            "remote: Total 237 (delta 0), reused 0 (delta 0), pack-reused 237\u001b[K\n",
            "Receiving objects: 100% (237/237), 16.18 MiB | 23.63 MiB/s, done.\n",
            "Resolving deltas: 100% (59/59), done.\n"
          ],
          "name": "stdout"
        }
      ]
    },
    {
      "cell_type": "code",
      "metadata": {
        "id": "bimnHAO_UgxM"
      },
      "source": [
        "import numpy as np\n",
        "import pandas as pd"
      ],
      "execution_count": 3,
      "outputs": []
    },
    {
      "cell_type": "code",
      "metadata": {
        "id": "ouc3cDJMcZM9"
      },
      "source": [
        "def import_data(testtext,testlab,traintext,trainlab,valtext,vallab):\n",
        "  test_text = pd.read_csv(testtext, delimiter = \"\\t\",names=['text'])\n",
        "  test_labels = pd.read_csv(testlab, delimiter = \"\\t\",names=['label'])\n",
        "  train_labels = pd.read_csv(trainlab, delimiter = \"\\t\",names=['label'])\n",
        "  train_text = pd.read_csv(traintext, delimiter = \"\\t\",names=['text'])\n",
        "  val_text = pd.read_csv(valtext, delimiter = \"\\t\",names=['text'])\n",
        "  val_labels = pd.read_csv(vallab, delimiter = \"\\t\",names=['label'])\n",
        "\n",
        "  df_test = pd.concat([test_text,test_labels],axis=1)\n",
        "  df_train = pd.concat([train_text,train_labels],axis=1)\n",
        "  df_val = pd.concat([val_text,val_labels],axis=1)"
      ],
      "execution_count": 81,
      "outputs": []
    },
    {
      "cell_type": "code",
      "metadata": {
        "id": "QGeeuu7Kfc8H"
      },
      "source": [
        "import_data('/content/CE888/tweeteval-main/datasets/offensive/test_text.txt','/content/CE888/tweeteval-main/datasets/offensive/test_labels.txt','/content/CE888/tweeteval-main/datasets/offensive/train_labels.txt',\n",
        "            '/content/CE888/tweeteval-main/datasets/offensive/train_text.txt','/content/CE888/tweeteval-main/datasets/offensive/val_text.txt','/content/CE888/tweeteval-main/datasets/offensive/val_labels.txt')"
      ],
      "execution_count": 82,
      "outputs": []
    },
    {
      "cell_type": "code",
      "metadata": {
        "colab": {
          "base_uri": "https://localhost:8080/",
          "height": 424
        },
        "id": "raWsrbxigGiU",
        "outputId": "284e532c-8ee6-4d40-d886-16f95db0a471"
      },
      "source": [
        "df_test"
      ],
      "execution_count": 83,
      "outputs": [
        {
          "output_type": "execute_result",
          "data": {
            "text/html": [
              "<div>\n",
              "<style scoped>\n",
              "    .dataframe tbody tr th:only-of-type {\n",
              "        vertical-align: middle;\n",
              "    }\n",
              "\n",
              "    .dataframe tbody tr th {\n",
              "        vertical-align: top;\n",
              "    }\n",
              "\n",
              "    .dataframe thead th {\n",
              "        text-align: right;\n",
              "    }\n",
              "</style>\n",
              "<table border=\"1\" class=\"dataframe\">\n",
              "  <thead>\n",
              "    <tr style=\"text-align: right;\">\n",
              "      <th></th>\n",
              "      <th>text</th>\n",
              "      <th>label</th>\n",
              "    </tr>\n",
              "  </thead>\n",
              "  <tbody>\n",
              "    <tr>\n",
              "      <th>0</th>\n",
              "      <td>#ibelieveblaseyford is liar she is fat ugly li...</td>\n",
              "      <td>1</td>\n",
              "    </tr>\n",
              "    <tr>\n",
              "      <th>1</th>\n",
              "      <td>@user @user @user I got in a pretty deep debat...</td>\n",
              "      <td>0</td>\n",
              "    </tr>\n",
              "    <tr>\n",
              "      <th>2</th>\n",
              "      <td>...if you want more shootings and more death, ...</td>\n",
              "      <td>0</td>\n",
              "    </tr>\n",
              "    <tr>\n",
              "      <th>3</th>\n",
              "      <td>Angels now have 6 runs. Five of them have come...</td>\n",
              "      <td>0</td>\n",
              "    </tr>\n",
              "    <tr>\n",
              "      <th>4</th>\n",
              "      <td>#Travel #Movies and Unix #Fortune combined  Vi...</td>\n",
              "      <td>0</td>\n",
              "    </tr>\n",
              "    <tr>\n",
              "      <th>...</th>\n",
              "      <td>...</td>\n",
              "      <td>...</td>\n",
              "    </tr>\n",
              "    <tr>\n",
              "      <th>855</th>\n",
              "      <td>#CNN irrationally argues 4 legalising #abortio...</td>\n",
              "      <td>0</td>\n",
              "    </tr>\n",
              "    <tr>\n",
              "      <th>856</th>\n",
              "      <td>@user @user @user @user @user @user @user @use...</td>\n",
              "      <td>0</td>\n",
              "    </tr>\n",
              "    <tr>\n",
              "      <th>857</th>\n",
              "      <td>#Conservatives don’t care what you post..it’s ...</td>\n",
              "      <td>1</td>\n",
              "    </tr>\n",
              "    <tr>\n",
              "      <th>858</th>\n",
              "      <td>#antifa #Resist.. Trump is trying to bring wor...</td>\n",
              "      <td>0</td>\n",
              "    </tr>\n",
              "    <tr>\n",
              "      <th>859</th>\n",
              "      <td>#Maine you need to face facts @user doesn’t re...</td>\n",
              "      <td>0</td>\n",
              "    </tr>\n",
              "  </tbody>\n",
              "</table>\n",
              "<p>860 rows × 2 columns</p>\n",
              "</div>"
            ],
            "text/plain": [
              "                                                  text  label\n",
              "0    #ibelieveblaseyford is liar she is fat ugly li...      1\n",
              "1    @user @user @user I got in a pretty deep debat...      0\n",
              "2    ...if you want more shootings and more death, ...      0\n",
              "3    Angels now have 6 runs. Five of them have come...      0\n",
              "4    #Travel #Movies and Unix #Fortune combined  Vi...      0\n",
              "..                                                 ...    ...\n",
              "855  #CNN irrationally argues 4 legalising #abortio...      0\n",
              "856  @user @user @user @user @user @user @user @use...      0\n",
              "857  #Conservatives don’t care what you post..it’s ...      1\n",
              "858  #antifa #Resist.. Trump is trying to bring wor...      0\n",
              "859  #Maine you need to face facts @user doesn’t re...      0\n",
              "\n",
              "[860 rows x 2 columns]"
            ]
          },
          "metadata": {
            "tags": []
          },
          "execution_count": 83
        }
      ]
    },
    {
      "cell_type": "code",
      "metadata": {
        "id": "CzOlIiXAgHB7"
      },
      "source": [
        ""
      ],
      "execution_count": null,
      "outputs": []
    }
  ]
}